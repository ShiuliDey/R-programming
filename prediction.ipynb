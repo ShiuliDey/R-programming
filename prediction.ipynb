{
  "nbformat": 4,
  "nbformat_minor": 0,
  "metadata": {
    "colab": {
      "name": "prediction.ipynb",
      "provenance": [],
      "authorship_tag": "ABX9TyPgN8E+7wCEBwscgk/z0+Fo",
      "include_colab_link": true
    },
    "kernelspec": {
      "name": "python3",
      "display_name": "Python 3"
    },
    "language_info": {
      "name": "python"
    }
  },
  "cells": [
    {
      "cell_type": "markdown",
      "metadata": {
        "id": "view-in-github",
        "colab_type": "text"
      },
      "source": [
        "<a href=\"https://colab.research.google.com/github/ShiuliDey/R-programming/blob/main/prediction.ipynb\" target=\"_parent\"><img src=\"https://colab.research.google.com/assets/colab-badge.svg\" alt=\"Open In Colab\"/></a>"
      ]
    },
    {
      "cell_type": "code",
      "execution_count": null,
      "metadata": {
        "id": "pErP0CUow3p3"
      },
      "outputs": [],
      "source": [
        "import pandas as pd\n",
        "import numpy as np\n",
        "import warnings\n",
        "import xgboost as XGB\n",
        "warnings.filterwarnings('ignore')\n",
        "\n",
        "from sklearn.preprocessing import LabelEncoder\n",
        "from sklearn.model_selection import train_test_split\n",
        "from sklearn.metrics import accuracy_score, confusion_matrix, plot_confusion_matrix\n",
        "from sklearn.svm import SVC"
      ]
    },
    {
      "cell_type": "code",
      "source": [
        "df = pd.read_csv('RawData.csv')"
      ],
      "metadata": {
        "id": "Dfa5veVEyxV9"
      },
      "execution_count": null,
      "outputs": []
    },
    {
      "cell_type": "code",
      "source": [
        "df.head()"
      ],
      "metadata": {
        "colab": {
          "base_uri": "https://localhost:8080/",
          "height": 595
        },
        "id": "qw6aMNgG0c9S",
        "outputId": "f6e67435-d0ce-4a90-d676-d6ff077fbec7"
      },
      "execution_count": null,
      "outputs": [
        {
          "output_type": "execute_result",
          "data": {
            "text/plain": [
              "             PATIENT_ID  AGE SEX  ZIP    BMI HEIGHT  WEIGHT TUBERCULOSIS  \\\n",
              "0  COVID-19-AR-16406529   70   M  721  25.69   6'0\"     193            N   \n",
              "1  COVID-19-AR-16406508   78   M  720  27.85   5'6\"     197            N   \n",
              "2  COVID-19-AR-16406529   64   M  718  30.12   6'0\"     204            N   \n",
              "3  COVID-19-AR-16406508   68   M  715  31.66   5'6\"     211            N   \n",
              "4  COVID-19-AR-16424115   66   F  712  35.60   5'7\"     225            N   \n",
              "\n",
              "  SYSTEMIC LUPUS ERYTHMATOSUS RHEUMATOID ARTHRITIS  ... DIABETES TYPE II  \\\n",
              "0                           N                    N  ...                Y   \n",
              "1                           N                    N  ...                N   \n",
              "2                           N                    N  ...                Y   \n",
              "3                           N                    N  ...                N   \n",
              "4                           N                    N  ...                N   \n",
              "\n",
              "  TRANSPLANT HEMODIALYSIS Pre Diagnosis HEMODIALYSIS Post diagnosis CANCER  \\\n",
              "0          N                          N                           N      N   \n",
              "1          N                          N                           N      N   \n",
              "2          N                          N                           N      N   \n",
              "3          N                          N                           Y      N   \n",
              "4          Y                          N                           Y      N   \n",
              "\n",
              "  COVID TEST POSITIVE              TEST NAME ICU Admit #ICU Admit MORTALITY  \n",
              "0                   Y  SARS-CoV-2 (COVID-19)         Y          1         Y  \n",
              "1                   Y  SARS-CoV-2 (COVID-19)         Y          1         Y  \n",
              "2                   Y  SARS-CoV-2 (COVID-19)         Y          1         Y  \n",
              "3                   Y  SARS-CoV-2 (COVID-19)         Y          2         Y  \n",
              "4                   Y  SARS-CoV-2 (COVID-19)         Y          2         Y  \n",
              "\n",
              "[5 rows x 31 columns]"
            ],
            "text/html": [
              "\n",
              "  <div id=\"df-fa96551f-08b9-4846-82c2-d9d2c8c4e292\">\n",
              "    <div class=\"colab-df-container\">\n",
              "      <div>\n",
              "<style scoped>\n",
              "    .dataframe tbody tr th:only-of-type {\n",
              "        vertical-align: middle;\n",
              "    }\n",
              "\n",
              "    .dataframe tbody tr th {\n",
              "        vertical-align: top;\n",
              "    }\n",
              "\n",
              "    .dataframe thead th {\n",
              "        text-align: right;\n",
              "    }\n",
              "</style>\n",
              "<table border=\"1\" class=\"dataframe\">\n",
              "  <thead>\n",
              "    <tr style=\"text-align: right;\">\n",
              "      <th></th>\n",
              "      <th>PATIENT_ID</th>\n",
              "      <th>AGE</th>\n",
              "      <th>SEX</th>\n",
              "      <th>ZIP</th>\n",
              "      <th>BMI</th>\n",
              "      <th>HEIGHT</th>\n",
              "      <th>WEIGHT</th>\n",
              "      <th>TUBERCULOSIS</th>\n",
              "      <th>SYSTEMIC LUPUS ERYTHMATOSUS</th>\n",
              "      <th>RHEUMATOID ARTHRITIS</th>\n",
              "      <th>...</th>\n",
              "      <th>DIABETES TYPE II</th>\n",
              "      <th>TRANSPLANT</th>\n",
              "      <th>HEMODIALYSIS Pre Diagnosis</th>\n",
              "      <th>HEMODIALYSIS Post diagnosis</th>\n",
              "      <th>CANCER</th>\n",
              "      <th>COVID TEST POSITIVE</th>\n",
              "      <th>TEST NAME</th>\n",
              "      <th>ICU Admit</th>\n",
              "      <th>#ICU Admit</th>\n",
              "      <th>MORTALITY</th>\n",
              "    </tr>\n",
              "  </thead>\n",
              "  <tbody>\n",
              "    <tr>\n",
              "      <th>0</th>\n",
              "      <td>COVID-19-AR-16406529</td>\n",
              "      <td>70</td>\n",
              "      <td>M</td>\n",
              "      <td>721</td>\n",
              "      <td>25.69</td>\n",
              "      <td>6'0\"</td>\n",
              "      <td>193</td>\n",
              "      <td>N</td>\n",
              "      <td>N</td>\n",
              "      <td>N</td>\n",
              "      <td>...</td>\n",
              "      <td>Y</td>\n",
              "      <td>N</td>\n",
              "      <td>N</td>\n",
              "      <td>N</td>\n",
              "      <td>N</td>\n",
              "      <td>Y</td>\n",
              "      <td>SARS-CoV-2 (COVID-19)</td>\n",
              "      <td>Y</td>\n",
              "      <td>1</td>\n",
              "      <td>Y</td>\n",
              "    </tr>\n",
              "    <tr>\n",
              "      <th>1</th>\n",
              "      <td>COVID-19-AR-16406508</td>\n",
              "      <td>78</td>\n",
              "      <td>M</td>\n",
              "      <td>720</td>\n",
              "      <td>27.85</td>\n",
              "      <td>5'6\"</td>\n",
              "      <td>197</td>\n",
              "      <td>N</td>\n",
              "      <td>N</td>\n",
              "      <td>N</td>\n",
              "      <td>...</td>\n",
              "      <td>N</td>\n",
              "      <td>N</td>\n",
              "      <td>N</td>\n",
              "      <td>N</td>\n",
              "      <td>N</td>\n",
              "      <td>Y</td>\n",
              "      <td>SARS-CoV-2 (COVID-19)</td>\n",
              "      <td>Y</td>\n",
              "      <td>1</td>\n",
              "      <td>Y</td>\n",
              "    </tr>\n",
              "    <tr>\n",
              "      <th>2</th>\n",
              "      <td>COVID-19-AR-16406529</td>\n",
              "      <td>64</td>\n",
              "      <td>M</td>\n",
              "      <td>718</td>\n",
              "      <td>30.12</td>\n",
              "      <td>6'0\"</td>\n",
              "      <td>204</td>\n",
              "      <td>N</td>\n",
              "      <td>N</td>\n",
              "      <td>N</td>\n",
              "      <td>...</td>\n",
              "      <td>Y</td>\n",
              "      <td>N</td>\n",
              "      <td>N</td>\n",
              "      <td>N</td>\n",
              "      <td>N</td>\n",
              "      <td>Y</td>\n",
              "      <td>SARS-CoV-2 (COVID-19)</td>\n",
              "      <td>Y</td>\n",
              "      <td>1</td>\n",
              "      <td>Y</td>\n",
              "    </tr>\n",
              "    <tr>\n",
              "      <th>3</th>\n",
              "      <td>COVID-19-AR-16406508</td>\n",
              "      <td>68</td>\n",
              "      <td>M</td>\n",
              "      <td>715</td>\n",
              "      <td>31.66</td>\n",
              "      <td>5'6\"</td>\n",
              "      <td>211</td>\n",
              "      <td>N</td>\n",
              "      <td>N</td>\n",
              "      <td>N</td>\n",
              "      <td>...</td>\n",
              "      <td>N</td>\n",
              "      <td>N</td>\n",
              "      <td>N</td>\n",
              "      <td>Y</td>\n",
              "      <td>N</td>\n",
              "      <td>Y</td>\n",
              "      <td>SARS-CoV-2 (COVID-19)</td>\n",
              "      <td>Y</td>\n",
              "      <td>2</td>\n",
              "      <td>Y</td>\n",
              "    </tr>\n",
              "    <tr>\n",
              "      <th>4</th>\n",
              "      <td>COVID-19-AR-16424115</td>\n",
              "      <td>66</td>\n",
              "      <td>F</td>\n",
              "      <td>712</td>\n",
              "      <td>35.60</td>\n",
              "      <td>5'7\"</td>\n",
              "      <td>225</td>\n",
              "      <td>N</td>\n",
              "      <td>N</td>\n",
              "      <td>N</td>\n",
              "      <td>...</td>\n",
              "      <td>N</td>\n",
              "      <td>Y</td>\n",
              "      <td>N</td>\n",
              "      <td>Y</td>\n",
              "      <td>N</td>\n",
              "      <td>Y</td>\n",
              "      <td>SARS-CoV-2 (COVID-19)</td>\n",
              "      <td>Y</td>\n",
              "      <td>2</td>\n",
              "      <td>Y</td>\n",
              "    </tr>\n",
              "  </tbody>\n",
              "</table>\n",
              "<p>5 rows × 31 columns</p>\n",
              "</div>\n",
              "      <button class=\"colab-df-convert\" onclick=\"convertToInteractive('df-fa96551f-08b9-4846-82c2-d9d2c8c4e292')\"\n",
              "              title=\"Convert this dataframe to an interactive table.\"\n",
              "              style=\"display:none;\">\n",
              "        \n",
              "  <svg xmlns=\"http://www.w3.org/2000/svg\" height=\"24px\"viewBox=\"0 0 24 24\"\n",
              "       width=\"24px\">\n",
              "    <path d=\"M0 0h24v24H0V0z\" fill=\"none\"/>\n",
              "    <path d=\"M18.56 5.44l.94 2.06.94-2.06 2.06-.94-2.06-.94-.94-2.06-.94 2.06-2.06.94zm-11 1L8.5 8.5l.94-2.06 2.06-.94-2.06-.94L8.5 2.5l-.94 2.06-2.06.94zm10 10l.94 2.06.94-2.06 2.06-.94-2.06-.94-.94-2.06-.94 2.06-2.06.94z\"/><path d=\"M17.41 7.96l-1.37-1.37c-.4-.4-.92-.59-1.43-.59-.52 0-1.04.2-1.43.59L10.3 9.45l-7.72 7.72c-.78.78-.78 2.05 0 2.83L4 21.41c.39.39.9.59 1.41.59.51 0 1.02-.2 1.41-.59l7.78-7.78 2.81-2.81c.8-.78.8-2.07 0-2.86zM5.41 20L4 18.59l7.72-7.72 1.47 1.35L5.41 20z\"/>\n",
              "  </svg>\n",
              "      </button>\n",
              "      \n",
              "  <style>\n",
              "    .colab-df-container {\n",
              "      display:flex;\n",
              "      flex-wrap:wrap;\n",
              "      gap: 12px;\n",
              "    }\n",
              "\n",
              "    .colab-df-convert {\n",
              "      background-color: #E8F0FE;\n",
              "      border: none;\n",
              "      border-radius: 50%;\n",
              "      cursor: pointer;\n",
              "      display: none;\n",
              "      fill: #1967D2;\n",
              "      height: 32px;\n",
              "      padding: 0 0 0 0;\n",
              "      width: 32px;\n",
              "    }\n",
              "\n",
              "    .colab-df-convert:hover {\n",
              "      background-color: #E2EBFA;\n",
              "      box-shadow: 0px 1px 2px rgba(60, 64, 67, 0.3), 0px 1px 3px 1px rgba(60, 64, 67, 0.15);\n",
              "      fill: #174EA6;\n",
              "    }\n",
              "\n",
              "    [theme=dark] .colab-df-convert {\n",
              "      background-color: #3B4455;\n",
              "      fill: #D2E3FC;\n",
              "    }\n",
              "\n",
              "    [theme=dark] .colab-df-convert:hover {\n",
              "      background-color: #434B5C;\n",
              "      box-shadow: 0px 1px 3px 1px rgba(0, 0, 0, 0.15);\n",
              "      filter: drop-shadow(0px 1px 2px rgba(0, 0, 0, 0.3));\n",
              "      fill: #FFFFFF;\n",
              "    }\n",
              "  </style>\n",
              "\n",
              "      <script>\n",
              "        const buttonEl =\n",
              "          document.querySelector('#df-fa96551f-08b9-4846-82c2-d9d2c8c4e292 button.colab-df-convert');\n",
              "        buttonEl.style.display =\n",
              "          google.colab.kernel.accessAllowed ? 'block' : 'none';\n",
              "\n",
              "        async function convertToInteractive(key) {\n",
              "          const element = document.querySelector('#df-fa96551f-08b9-4846-82c2-d9d2c8c4e292');\n",
              "          const dataTable =\n",
              "            await google.colab.kernel.invokeFunction('convertToInteractive',\n",
              "                                                     [key], {});\n",
              "          if (!dataTable) return;\n",
              "\n",
              "          const docLinkHtml = 'Like what you see? Visit the ' +\n",
              "            '<a target=\"_blank\" href=https://colab.research.google.com/notebooks/data_table.ipynb>data table notebook</a>'\n",
              "            + ' to learn more about interactive tables.';\n",
              "          element.innerHTML = '';\n",
              "          dataTable['output_type'] = 'display_data';\n",
              "          await google.colab.output.renderOutput(dataTable, element);\n",
              "          const docLink = document.createElement('div');\n",
              "          docLink.innerHTML = docLinkHtml;\n",
              "          element.appendChild(docLink);\n",
              "        }\n",
              "      </script>\n",
              "    </div>\n",
              "  </div>\n",
              "  "
            ]
          },
          "metadata": {},
          "execution_count": 8
        }
      ]
    },
    {
      "cell_type": "code",
      "source": [
        "df.isnull().sum()"
      ],
      "metadata": {
        "colab": {
          "base_uri": "https://localhost:8080/"
        },
        "id": "oTF1rjee0oPd",
        "outputId": "2e16f5e9-09b4-44cf-fa30-61e3bd595d7d"
      },
      "execution_count": null,
      "outputs": [
        {
          "output_type": "execute_result",
          "data": {
            "text/plain": [
              "PATIENT_ID                     0\n",
              "AGE                            0\n",
              "SEX                            0\n",
              "ZIP                            0\n",
              "BMI                            0\n",
              "HEIGHT                         0\n",
              "WEIGHT                         0\n",
              "TUBERCULOSIS                   0\n",
              "SYSTEMIC LUPUS ERYTHMATOSUS    0\n",
              "RHEUMATOID ARTHRITIS           0\n",
              "EXTENSIVE BURNS                0\n",
              "ASPLENIA                       0\n",
              "HYPOSPLENIA                    0\n",
              "MEASLES                        0\n",
              "CYTOMEGALOVIRUS                0\n",
              "CHICKEN POX                    0\n",
              "HERPES ZOSTER                  0\n",
              "MALNUTRITION                   0\n",
              "CURRENT PREGNANT               0\n",
              "CHRONIC KIDNEY DISEASE         0\n",
              "DIABETES TYPE I                0\n",
              "DIABETES TYPE II               0\n",
              "TRANSPLANT                     0\n",
              "HEMODIALYSIS Pre Diagnosis     0\n",
              "HEMODIALYSIS Post diagnosis    0\n",
              "CANCER                         0\n",
              "COVID TEST POSITIVE            0\n",
              "TEST NAME                      0\n",
              "ICU Admit                      0\n",
              "#ICU Admit                     0\n",
              "MORTALITY                      0\n",
              "dtype: int64"
            ]
          },
          "metadata": {},
          "execution_count": 9
        }
      ]
    },
    {
      "cell_type": "code",
      "source": [
        "cat_features = ['SEX', 'TUBERCULOSIS', 'SYSTEMIC LUPUS ERYTHMATOSUS', 'RHEUMATOID ARTHRITIS',\n",
        "                'EXTENSIVE BURNS', 'ASPLENIA', 'HYPOSPLENIA', 'MEASLES',\n",
        "                'CYTOMEGALOVIRUS', 'CHICKEN POX', 'HERPES ZOSTER', 'MALNUTRITION',\n",
        "                'CURRENT PREGNANT', 'CHRONIC KIDNEY DISEASE', 'DIABETES TYPE I',\n",
        "                'DIABETES TYPE II', 'TRANSPLANT', 'HEMODIALYSIS Pre Diagnosis',\n",
        "                'HEMODIALYSIS Post diagnosis', 'CANCER', 'COVID TEST POSITIVE',\n",
        "                'TEST NAME', 'ICU Admit', 'MORTALITY']"
      ],
      "metadata": {
        "id": "TZHAyoPa0xO5"
      },
      "execution_count": null,
      "outputs": []
    },
    {
      "cell_type": "code",
      "source": [
        "num_features = ['AGE', 'ZIP', 'BMI', 'HEIGHT', 'WEIGHT', '#ICU Admit']"
      ],
      "metadata": {
        "id": "yc-Zlstz02Iw"
      },
      "execution_count": null,
      "outputs": []
    },
    {
      "cell_type": "code",
      "source": [
        "features = cat_features + num_features\n",
        "features.remove('MORTALITY')\n",
        "features.remove('HEIGHT')\n",
        "target = 'MORTALITY'"
      ],
      "metadata": {
        "id": "j3UoeOD208Gl"
      },
      "execution_count": null,
      "outputs": []
    },
    {
      "cell_type": "code",
      "source": [
        "label = LabelEncoder()"
      ],
      "metadata": {
        "id": "NTAGlpVh1B7d"
      },
      "execution_count": null,
      "outputs": []
    },
    {
      "cell_type": "code",
      "source": [
        "for i in cat_features:\n",
        "    df[i] = label.fit_transform(df[i])"
      ],
      "metadata": {
        "id": "tBuNMAls1GJ_"
      },
      "execution_count": null,
      "outputs": []
    },
    {
      "cell_type": "code",
      "source": [
        "df.tail()"
      ],
      "metadata": {
        "colab": {
          "base_uri": "https://localhost:8080/",
          "height": 508
        },
        "id": "Ut7YBVKR1Ka5",
        "outputId": "f5810bf7-c3f5-4da5-fe60-398b2c11e204"
      },
      "execution_count": null,
      "outputs": [
        {
          "output_type": "execute_result",
          "data": {
            "text/plain": [
              "                 PATIENT_ID  AGE  SEX  ZIP    BMI HEIGHT  WEIGHT  \\\n",
              "39995  COVID-19-AR-16406545   30    1  720  64.60   5'8\"     412   \n",
              "39996  COVID-19-AR-16406521   54    0  719  19.65   5'7\"     110   \n",
              "39997  COVID-19-AR-16406521   44    0  721  40.03   5'5\"     280   \n",
              "39998  COVID-19-AR-16445151   54    0  721  26.64   5'9\"     161   \n",
              "39999  COVID-19-AR-16406559   33    0  721  28.37   5'7\"     182   \n",
              "\n",
              "       TUBERCULOSIS  SYSTEMIC LUPUS ERYTHMATOSUS  RHEUMATOID ARTHRITIS  ...  \\\n",
              "39995             0                            0                     0  ...   \n",
              "39996             0                            0                     0  ...   \n",
              "39997             0                            0                     0  ...   \n",
              "39998             0                            0                     0  ...   \n",
              "39999             0                            0                     0  ...   \n",
              "\n",
              "       DIABETES TYPE II  TRANSPLANT  HEMODIALYSIS Pre Diagnosis  \\\n",
              "39995                 0           0                           0   \n",
              "39996                 0           0                           0   \n",
              "39997                 0           0                           0   \n",
              "39998                 1           0                           0   \n",
              "39999                 0           0                           0   \n",
              "\n",
              "       HEMODIALYSIS Post diagnosis  CANCER  COVID TEST POSITIVE  TEST NAME  \\\n",
              "39995                            0       0                    0          3   \n",
              "39996                            0       0                    0          3   \n",
              "39997                            0       0                    0          3   \n",
              "39998                            0       1                    0          2   \n",
              "39999                            1       1                    0          3   \n",
              "\n",
              "       ICU Admit  #ICU Admit  MORTALITY  \n",
              "39995          0           0          0  \n",
              "39996          0           1          0  \n",
              "39997          0           0          0  \n",
              "39998          0           1          0  \n",
              "39999          0           1          0  \n",
              "\n",
              "[5 rows x 31 columns]"
            ],
            "text/html": [
              "\n",
              "  <div id=\"df-9f2779d5-5d30-4d78-98e4-33495302df31\">\n",
              "    <div class=\"colab-df-container\">\n",
              "      <div>\n",
              "<style scoped>\n",
              "    .dataframe tbody tr th:only-of-type {\n",
              "        vertical-align: middle;\n",
              "    }\n",
              "\n",
              "    .dataframe tbody tr th {\n",
              "        vertical-align: top;\n",
              "    }\n",
              "\n",
              "    .dataframe thead th {\n",
              "        text-align: right;\n",
              "    }\n",
              "</style>\n",
              "<table border=\"1\" class=\"dataframe\">\n",
              "  <thead>\n",
              "    <tr style=\"text-align: right;\">\n",
              "      <th></th>\n",
              "      <th>PATIENT_ID</th>\n",
              "      <th>AGE</th>\n",
              "      <th>SEX</th>\n",
              "      <th>ZIP</th>\n",
              "      <th>BMI</th>\n",
              "      <th>HEIGHT</th>\n",
              "      <th>WEIGHT</th>\n",
              "      <th>TUBERCULOSIS</th>\n",
              "      <th>SYSTEMIC LUPUS ERYTHMATOSUS</th>\n",
              "      <th>RHEUMATOID ARTHRITIS</th>\n",
              "      <th>...</th>\n",
              "      <th>DIABETES TYPE II</th>\n",
              "      <th>TRANSPLANT</th>\n",
              "      <th>HEMODIALYSIS Pre Diagnosis</th>\n",
              "      <th>HEMODIALYSIS Post diagnosis</th>\n",
              "      <th>CANCER</th>\n",
              "      <th>COVID TEST POSITIVE</th>\n",
              "      <th>TEST NAME</th>\n",
              "      <th>ICU Admit</th>\n",
              "      <th>#ICU Admit</th>\n",
              "      <th>MORTALITY</th>\n",
              "    </tr>\n",
              "  </thead>\n",
              "  <tbody>\n",
              "    <tr>\n",
              "      <th>39995</th>\n",
              "      <td>COVID-19-AR-16406545</td>\n",
              "      <td>30</td>\n",
              "      <td>1</td>\n",
              "      <td>720</td>\n",
              "      <td>64.60</td>\n",
              "      <td>5'8\"</td>\n",
              "      <td>412</td>\n",
              "      <td>0</td>\n",
              "      <td>0</td>\n",
              "      <td>0</td>\n",
              "      <td>...</td>\n",
              "      <td>0</td>\n",
              "      <td>0</td>\n",
              "      <td>0</td>\n",
              "      <td>0</td>\n",
              "      <td>0</td>\n",
              "      <td>0</td>\n",
              "      <td>3</td>\n",
              "      <td>0</td>\n",
              "      <td>0</td>\n",
              "      <td>0</td>\n",
              "    </tr>\n",
              "    <tr>\n",
              "      <th>39996</th>\n",
              "      <td>COVID-19-AR-16406521</td>\n",
              "      <td>54</td>\n",
              "      <td>0</td>\n",
              "      <td>719</td>\n",
              "      <td>19.65</td>\n",
              "      <td>5'7\"</td>\n",
              "      <td>110</td>\n",
              "      <td>0</td>\n",
              "      <td>0</td>\n",
              "      <td>0</td>\n",
              "      <td>...</td>\n",
              "      <td>0</td>\n",
              "      <td>0</td>\n",
              "      <td>0</td>\n",
              "      <td>0</td>\n",
              "      <td>0</td>\n",
              "      <td>0</td>\n",
              "      <td>3</td>\n",
              "      <td>0</td>\n",
              "      <td>1</td>\n",
              "      <td>0</td>\n",
              "    </tr>\n",
              "    <tr>\n",
              "      <th>39997</th>\n",
              "      <td>COVID-19-AR-16406521</td>\n",
              "      <td>44</td>\n",
              "      <td>0</td>\n",
              "      <td>721</td>\n",
              "      <td>40.03</td>\n",
              "      <td>5'5\"</td>\n",
              "      <td>280</td>\n",
              "      <td>0</td>\n",
              "      <td>0</td>\n",
              "      <td>0</td>\n",
              "      <td>...</td>\n",
              "      <td>0</td>\n",
              "      <td>0</td>\n",
              "      <td>0</td>\n",
              "      <td>0</td>\n",
              "      <td>0</td>\n",
              "      <td>0</td>\n",
              "      <td>3</td>\n",
              "      <td>0</td>\n",
              "      <td>0</td>\n",
              "      <td>0</td>\n",
              "    </tr>\n",
              "    <tr>\n",
              "      <th>39998</th>\n",
              "      <td>COVID-19-AR-16445151</td>\n",
              "      <td>54</td>\n",
              "      <td>0</td>\n",
              "      <td>721</td>\n",
              "      <td>26.64</td>\n",
              "      <td>5'9\"</td>\n",
              "      <td>161</td>\n",
              "      <td>0</td>\n",
              "      <td>0</td>\n",
              "      <td>0</td>\n",
              "      <td>...</td>\n",
              "      <td>1</td>\n",
              "      <td>0</td>\n",
              "      <td>0</td>\n",
              "      <td>0</td>\n",
              "      <td>1</td>\n",
              "      <td>0</td>\n",
              "      <td>2</td>\n",
              "      <td>0</td>\n",
              "      <td>1</td>\n",
              "      <td>0</td>\n",
              "    </tr>\n",
              "    <tr>\n",
              "      <th>39999</th>\n",
              "      <td>COVID-19-AR-16406559</td>\n",
              "      <td>33</td>\n",
              "      <td>0</td>\n",
              "      <td>721</td>\n",
              "      <td>28.37</td>\n",
              "      <td>5'7\"</td>\n",
              "      <td>182</td>\n",
              "      <td>0</td>\n",
              "      <td>0</td>\n",
              "      <td>0</td>\n",
              "      <td>...</td>\n",
              "      <td>0</td>\n",
              "      <td>0</td>\n",
              "      <td>0</td>\n",
              "      <td>1</td>\n",
              "      <td>1</td>\n",
              "      <td>0</td>\n",
              "      <td>3</td>\n",
              "      <td>0</td>\n",
              "      <td>1</td>\n",
              "      <td>0</td>\n",
              "    </tr>\n",
              "  </tbody>\n",
              "</table>\n",
              "<p>5 rows × 31 columns</p>\n",
              "</div>\n",
              "      <button class=\"colab-df-convert\" onclick=\"convertToInteractive('df-9f2779d5-5d30-4d78-98e4-33495302df31')\"\n",
              "              title=\"Convert this dataframe to an interactive table.\"\n",
              "              style=\"display:none;\">\n",
              "        \n",
              "  <svg xmlns=\"http://www.w3.org/2000/svg\" height=\"24px\"viewBox=\"0 0 24 24\"\n",
              "       width=\"24px\">\n",
              "    <path d=\"M0 0h24v24H0V0z\" fill=\"none\"/>\n",
              "    <path d=\"M18.56 5.44l.94 2.06.94-2.06 2.06-.94-2.06-.94-.94-2.06-.94 2.06-2.06.94zm-11 1L8.5 8.5l.94-2.06 2.06-.94-2.06-.94L8.5 2.5l-.94 2.06-2.06.94zm10 10l.94 2.06.94-2.06 2.06-.94-2.06-.94-.94-2.06-.94 2.06-2.06.94z\"/><path d=\"M17.41 7.96l-1.37-1.37c-.4-.4-.92-.59-1.43-.59-.52 0-1.04.2-1.43.59L10.3 9.45l-7.72 7.72c-.78.78-.78 2.05 0 2.83L4 21.41c.39.39.9.59 1.41.59.51 0 1.02-.2 1.41-.59l7.78-7.78 2.81-2.81c.8-.78.8-2.07 0-2.86zM5.41 20L4 18.59l7.72-7.72 1.47 1.35L5.41 20z\"/>\n",
              "  </svg>\n",
              "      </button>\n",
              "      \n",
              "  <style>\n",
              "    .colab-df-container {\n",
              "      display:flex;\n",
              "      flex-wrap:wrap;\n",
              "      gap: 12px;\n",
              "    }\n",
              "\n",
              "    .colab-df-convert {\n",
              "      background-color: #E8F0FE;\n",
              "      border: none;\n",
              "      border-radius: 50%;\n",
              "      cursor: pointer;\n",
              "      display: none;\n",
              "      fill: #1967D2;\n",
              "      height: 32px;\n",
              "      padding: 0 0 0 0;\n",
              "      width: 32px;\n",
              "    }\n",
              "\n",
              "    .colab-df-convert:hover {\n",
              "      background-color: #E2EBFA;\n",
              "      box-shadow: 0px 1px 2px rgba(60, 64, 67, 0.3), 0px 1px 3px 1px rgba(60, 64, 67, 0.15);\n",
              "      fill: #174EA6;\n",
              "    }\n",
              "\n",
              "    [theme=dark] .colab-df-convert {\n",
              "      background-color: #3B4455;\n",
              "      fill: #D2E3FC;\n",
              "    }\n",
              "\n",
              "    [theme=dark] .colab-df-convert:hover {\n",
              "      background-color: #434B5C;\n",
              "      box-shadow: 0px 1px 3px 1px rgba(0, 0, 0, 0.15);\n",
              "      filter: drop-shadow(0px 1px 2px rgba(0, 0, 0, 0.3));\n",
              "      fill: #FFFFFF;\n",
              "    }\n",
              "  </style>\n",
              "\n",
              "      <script>\n",
              "        const buttonEl =\n",
              "          document.querySelector('#df-9f2779d5-5d30-4d78-98e4-33495302df31 button.colab-df-convert');\n",
              "        buttonEl.style.display =\n",
              "          google.colab.kernel.accessAllowed ? 'block' : 'none';\n",
              "\n",
              "        async function convertToInteractive(key) {\n",
              "          const element = document.querySelector('#df-9f2779d5-5d30-4d78-98e4-33495302df31');\n",
              "          const dataTable =\n",
              "            await google.colab.kernel.invokeFunction('convertToInteractive',\n",
              "                                                     [key], {});\n",
              "          if (!dataTable) return;\n",
              "\n",
              "          const docLinkHtml = 'Like what you see? Visit the ' +\n",
              "            '<a target=\"_blank\" href=https://colab.research.google.com/notebooks/data_table.ipynb>data table notebook</a>'\n",
              "            + ' to learn more about interactive tables.';\n",
              "          element.innerHTML = '';\n",
              "          dataTable['output_type'] = 'display_data';\n",
              "          await google.colab.output.renderOutput(dataTable, element);\n",
              "          const docLink = document.createElement('div');\n",
              "          docLink.innerHTML = docLinkHtml;\n",
              "          element.appendChild(docLink);\n",
              "        }\n",
              "      </script>\n",
              "    </div>\n",
              "  </div>\n",
              "  "
            ]
          },
          "metadata": {},
          "execution_count": 15
        }
      ]
    },
    {
      "cell_type": "markdown",
      "source": [
        "Training"
      ],
      "metadata": {
        "id": "_FkRr8Zo1U3M"
      }
    },
    {
      "cell_type": "code",
      "source": [
        "X_train, X_test, y_train, y_test = train_test_split(df[features], df[target], test_size=0.2)"
      ],
      "metadata": {
        "id": "mQ7sgyxB1Z1X"
      },
      "execution_count": null,
      "outputs": []
    },
    {
      "cell_type": "code",
      "source": [
        "model = XGB.XGBClassifier()\n",
        "model.fit(X_train, y_train)"
      ],
      "metadata": {
        "colab": {
          "base_uri": "https://localhost:8080/"
        },
        "id": "mYsvgebB1fO7",
        "outputId": "3abc5b5f-5f0c-430d-88cf-5c2201af3be5"
      },
      "execution_count": null,
      "outputs": [
        {
          "output_type": "execute_result",
          "data": {
            "text/plain": [
              "XGBClassifier()"
            ]
          },
          "metadata": {},
          "execution_count": 17
        }
      ]
    },
    {
      "cell_type": "markdown",
      "source": [
        "Testing"
      ],
      "metadata": {
        "id": "pD5B57ph1mml"
      }
    },
    {
      "cell_type": "code",
      "source": [
        "preds = model.predict(X_test)"
      ],
      "metadata": {
        "id": "zFVGwN6L1ony"
      },
      "execution_count": null,
      "outputs": []
    },
    {
      "cell_type": "code",
      "source": [
        "accuracy_score(y_test, preds)"
      ],
      "metadata": {
        "colab": {
          "base_uri": "https://localhost:8080/"
        },
        "id": "vgxGL9q41xGy",
        "outputId": "c99a4476-9615-4172-cd17-7cea39e39ec9"
      },
      "execution_count": null,
      "outputs": [
        {
          "output_type": "execute_result",
          "data": {
            "text/plain": [
              "0.998625"
            ]
          },
          "metadata": {},
          "execution_count": 19
        }
      ]
    },
    {
      "cell_type": "code",
      "source": [
        "tn, fp, fn, tp = confusion_matrix(y_test, preds).ravel()"
      ],
      "metadata": {
        "id": "wRx8C4Sn11cW"
      },
      "execution_count": null,
      "outputs": []
    },
    {
      "cell_type": "code",
      "source": [
        "print(\"Precision: \", (tp/(tp + fp)))\n",
        "print(\"Recall: \", (tp/(tp + fn)))"
      ],
      "metadata": {
        "id": "13yTh6dQ16xP",
        "outputId": "77a42cc1-0f7e-466d-fbdf-53d53aa32327",
        "colab": {
          "base_uri": "https://localhost:8080/"
        }
      },
      "execution_count": null,
      "outputs": [
        {
          "output_type": "stream",
          "name": "stdout",
          "text": [
            "Precision:  0.9975012493753124\n",
            "Recall:  0.9997495617330328\n"
          ]
        }
      ]
    },
    {
      "cell_type": "code",
      "source": [
        "plot_confusion_matrix(model, X_test, y_test)"
      ],
      "metadata": {
        "id": "QxrM7XT21_Ey",
        "outputId": "7d5954c0-dbcf-438a-aa0c-2fa82f1ecbf2",
        "colab": {
          "base_uri": "https://localhost:8080/",
          "height": 297
        }
      },
      "execution_count": null,
      "outputs": [
        {
          "output_type": "execute_result",
          "data": {
            "text/plain": [
              "<sklearn.metrics._plot.confusion_matrix.ConfusionMatrixDisplay at 0x7fd550abc6d0>"
            ]
          },
          "metadata": {},
          "execution_count": 22
        },
        {
          "output_type": "display_data",
          "data": {
            "text/plain": [
              "<Figure size 432x288 with 2 Axes>"
            ],
            "image/png": "[encoded data removed]"
          },
          "metadata": {
            "needs_background": "light"
          }
        }
      ]
    }
  ]
}